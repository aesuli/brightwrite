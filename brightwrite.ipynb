{
 "cells": [
  {
   "cell_type": "markdown",
   "id": "b61de559",
   "metadata": {
    "slideshow": {
     "slide_type": "slide"
    }
   },
   "source": [
    "<center>\n",
    "<h1>Il computer impara a scrivere</h1>\n",
    "<img src=\"robot1.jpg\" style=\"width: 50%;\" />\n",
    "</center>"
   ]
  },
  {
   "cell_type": "markdown",
   "id": "14d88fce",
   "metadata": {
    "slideshow": {
     "slide_type": "slide"
    }
   },
   "source": [
    "\n",
    "## Il nostro obiettivo:\n",
    "\n",
    "\n",
    "\n",
    "<img src=\"robot4.jpg\" style=\"width:20%;float:right;\"/>\n",
    "<img src=\"robot3.jpg\" style=\"width:25%;float:right;\"/>\n",
    "\n",
    "\n",
    "☑️ Costruire un generatore di titoli di giornale\n",
    "\n",
    "☑️ Vedere all'opera tre concetti fondamentali per la generazione del testo\n",
    "\n",
    "&nbsp;&nbsp;&nbsp;&nbsp;&nbsp;&nbsp;🔵 Scelta casuale\n",
    "  \n",
    "&nbsp;&nbsp;&nbsp;&nbsp;&nbsp;&nbsp;🔵 Frequenza d'uso delle parole\n",
    "\n",
    "&nbsp;&nbsp;&nbsp;&nbsp;&nbsp;&nbsp;🔵 Contesto d'uso delle parole\n"
   ]
  },
  {
   "cell_type": "markdown",
   "id": "625a3e8b",
   "metadata": {
    "slideshow": {
     "slide_type": "slide"
    }
   },
   "source": [
    "Per imparare a generare del testo ci servono degli **esempi**:\n",
    "* usiamo un file con 50'000 titoli di giornali riguardanti la politica italiana (2018-2021)\n",
    "* memorizziamo ogni titolo come la **sequenza di parole e punteggiatura** di cui è composto"
   ]
  },
  {
   "cell_type": "code",
   "execution_count": null,
   "id": "00f806fe",
   "metadata": {
    "slideshow": {
     "slide_type": "fragment"
    }
   },
   "outputs": [],
   "source": [
    "import brightwrite\n",
    "\n",
    "# file con titoli di giornali riguardanti la politica italiana\n",
    "filename = \"data/politica.txt\"\n",
    "\n",
    "esempi = brightwrite.carica_esempi(filename)\n",
    "\n",
    "brightwrite.stampa_esempi(esempi, 10)"
   ]
  },
  {
   "cell_type": "markdown",
   "id": "8637beda",
   "metadata": {
    "slideshow": {
     "slide_type": "slide"
    }
   },
   "source": [
    "Costruiamo il **vocabolario** del nostro linguaggio:\n",
    "* l'elenco di tutte le parole, e simboli, che compaiono almeno una volta negli esempi"
   ]
  },
  {
   "cell_type": "code",
   "execution_count": null,
   "id": "d9fbf9ad",
   "metadata": {
    "slideshow": {
     "slide_type": "-"
    }
   },
   "outputs": [],
   "source": [
    "vocabolario = brightwrite.costruisci_vocabolario(esempi)"
   ]
  },
  {
   "cell_type": "code",
   "execution_count": null,
   "id": "96a293d0",
   "metadata": {
    "slideshow": {
     "slide_type": "-"
    }
   },
   "outputs": [],
   "source": [
    "# stampo tutti gli elementi del vocabolario\n",
    "for elemento in vocabolario:\n",
    "    print(f'{elemento:15}',end='\\t')"
   ]
  },
  {
   "cell_type": "markdown",
   "id": "54e62199",
   "metadata": {
    "slideshow": {
     "slide_type": "slide"
    }
   },
   "source": [
    "<img src=\"scelta_uniforme.png\" style=\"display:inline-block; float:right; width:50%\" />     \n",
    "<img src=\"dart.png\" style=\"display:inline-block; float:right;margin-top:10%; width:20%\" />\n",
    "\n",
    "Possiamo generare un testo a partire dal vocabolario?\n",
    "\n",
    "Sì, **scegliendo parole a caso!**\n",
    "\n",
    "</div>"
   ]
  },
  {
   "cell_type": "code",
   "execution_count": null,
   "id": "c7520985",
   "metadata": {
    "slideshow": {
     "slide_type": "slide"
    }
   },
   "outputs": [],
   "source": [
    "import random\n",
    "\n",
    "lunghezza = 15\n",
    "print(' '.join(random.choices(vocabolario, k=lunghezza)))"
   ]
  },
  {
   "cell_type": "markdown",
   "id": "61764102",
   "metadata": {
    "slideshow": {
     "slide_type": "fragment"
    }
   },
   "source": [
    "Dove sono gli articoli, le preposizioni, i pronomi, virgole e punti?"
   ]
  },
  {
   "cell_type": "markdown",
   "id": "82357585",
   "metadata": {
    "slideshow": {
     "slide_type": "slide"
    }
   },
   "source": [
    "\n",
    "<img src=\"scelta_pesata.png\" style=\"display:inline-block; float:right;width:64%\" /> \n",
    "<img src=\"dart.png\" style=\"display:inline-block; float:right;margin-top:10%; width:20%\" />\n",
    "\n",
    "Scegliamo parole a caso **in proporzione alla frequenza d'uso negli esempi**."
   ]
  },
  {
   "cell_type": "code",
   "execution_count": null,
   "id": "1a7eda7d",
   "metadata": {
    "slideshow": {
     "slide_type": "slide"
    }
   },
   "outputs": [],
   "source": [
    "vocabolario, frequenze = brightwrite.conta_frequenze(esempi)\n",
    "\n",
    "# stampo i 30 elementi più frequenti\n",
    "for idx in range(30):\n",
    "    print(f'{frequenze[idx]:5} {vocabolario[idx]:30}', end='\\t')"
   ]
  },
  {
   "cell_type": "code",
   "execution_count": null,
   "id": "b65cf4f6",
   "metadata": {
    "slideshow": {
     "slide_type": "fragment"
    }
   },
   "outputs": [],
   "source": [
    "lunghezza = 15\n",
    "\n",
    "# impostiamo una probabilità di scelta proporzionale alla frequenza negli esempi\n",
    "print(' '.join(random.choices(vocabolario, k=lunghezza, weights=frequenze)))"
   ]
  },
  {
   "cell_type": "markdown",
   "id": "bb2eb41e",
   "metadata": {
    "slideshow": {
     "slide_type": "fragment"
    }
   },
   "source": [
    "Le parole hanno le giuste proporzioni **ma non sono legate tra loro**."
   ]
  },
  {
   "cell_type": "markdown",
   "id": "216b8dc3",
   "metadata": {
    "slideshow": {
     "slide_type": "slide"
    }
   },
   "source": [
    "Le parole hanno un **contesto d'uso**:\n",
    "\n",
    "\"il presidente del...\"\n",
    "\n",
    "* ✔️ consiglio, partito, comitato...\n",
    "* ❌ _ristrutturata_,  _avrei_, _banana_..."
   ]
  },
  {
   "cell_type": "markdown",
   "id": "5c456f63",
   "metadata": {
    "slideshow": {
     "slide_type": "fragment"
    }
   },
   "source": [
    "Data la parola precedente (o anche più parole), la scelta casuale usa le frequenze delle parole che compaiono dopo quella parola negli esempi.\n",
    "\n",
    "<center>\n",
    "    <img src=\"scelta_contesto.png\" style=\"width:80%;\">\n",
    "</center>"
   ]
  },
  {
   "cell_type": "markdown",
   "id": "829c93e4",
   "metadata": {
    "slideshow": {
     "slide_type": "slide"
    }
   },
   "source": [
    "Calcoliamo un **modello del linguaggio** che memorizza le frequenze per ogni contesto (da zero a quattro parole) osservato negli esempi:"
   ]
  },
  {
   "cell_type": "code",
   "execution_count": null,
   "id": "714afb1f",
   "metadata": {
    "slideshow": {
     "slide_type": "-"
    }
   },
   "outputs": [],
   "source": [
    "lunghezza_massima_contesti = 4\n",
    "modello = brightwrite.conta_frequenze_nei_contesti(esempi,lunghezza_massima_contesti)"
   ]
  },
  {
   "cell_type": "code",
   "execution_count": null,
   "id": "ab11bec3",
   "metadata": {
    "slideshow": {
     "slide_type": "-"
    }
   },
   "outputs": [],
   "source": [
    "brightwrite.mostra_frequenze_per_contesto(modello, '')"
   ]
  },
  {
   "cell_type": "code",
   "execution_count": null,
   "id": "fa7ec542",
   "metadata": {
    "slideshow": {
     "slide_type": "-"
    }
   },
   "outputs": [],
   "source": [
    "brightwrite.mostra_frequenze_per_contesto(modello, 'presidente')"
   ]
  },
  {
   "cell_type": "code",
   "execution_count": null,
   "id": "f566b957",
   "metadata": {
    "slideshow": {
     "slide_type": "-"
    }
   },
   "outputs": [],
   "source": [
    "brightwrite.mostra_frequenze_per_contesto(modello, 'presidente del')"
   ]
  },
  {
   "cell_type": "markdown",
   "id": "66bc6617",
   "metadata": {
    "slideshow": {
     "slide_type": "slide"
    }
   },
   "source": [
    "Generiamo il testo usando frequenze e contesti:"
   ]
  },
  {
   "cell_type": "code",
   "execution_count": null,
   "id": "19eea181",
   "metadata": {
    "slideshow": {
     "slide_type": "-"
    }
   },
   "outputs": [],
   "source": [
    "print(brightwrite.genera_testo(modello, lunghezza_max=15, interrompi_al_punto=True))"
   ]
  },
  {
   "cell_type": "code",
   "execution_count": null,
   "id": "564d0580",
   "metadata": {},
   "outputs": [],
   "source": [
    "print(brightwrite.genera_testo(modello, contesto='scontro', lunghezza_max=15, interrompi_al_punto=True))"
   ]
  },
  {
   "cell_type": "markdown",
   "id": "d1f9c0a6",
   "metadata": {
    "slideshow": {
     "slide_type": "slide"
    }
   },
   "source": [
    "# ...e ChatGPT?\n",
    "\n",
    "I concetti alla base di ChatGPT (e simili) **sono gli stessi:**\n",
    "\n",
    "* osservare **tanti** *esempi* \n",
    "* per definire un *modello di probabilità* **complesso**\n",
    "* che usa un **grande** *contesto*\n",
    "\n",
    "<table>\n",
    "<thead>\n",
    "  <tr>\n",
    "    <th></th>\n",
    "    <th>BrightWrite</th>\n",
    "    <th>GPT3</th>\n",
    "    <th>Incremento</th>\n",
    "  </tr>\n",
    "</thead>\n",
    "<tbody>\n",
    "  <tr>\n",
    "    <td>Quantità di esempi</td>\n",
    "    <td>3.2 MB</td>\n",
    "    <td>570 GB</td>\n",
    "    <td>x 182400</td>\n",
    "  </tr>\n",
    "  <tr>\n",
    "    <td>Numero parametri<br>nel modello</td>\n",
    "    <td>664675</td>\n",
    "    <td>175 B<br></td>\n",
    "    <td>x 263000</td>\n",
    "  </tr>\n",
    "  <tr>\n",
    "    <td>Dimensione contesto</td>\n",
    "    <td>4</td>\n",
    "    <td>2048</td>\n",
    "    <td>x 512</td>\n",
    "  </tr>\n",
    "  <tr>\n",
    "    <td>Tempo di apprendimento</td>\n",
    "    <td> 6 s</td>\n",
    "    <td>34 giorni</td>\n",
    "    <td>-</td>\n",
    "  </tr>\n",
    "  <tr>\n",
    "    <td>Hardware</td>\n",
    "    <td>1 CPU</td>\n",
    "    <td>1024 GPU</td>\n",
    "    <td>-</td>\n",
    "  </tr>\n",
    "  <tr>\n",
    "    <td>Costo</td>\n",
    "    <td><0.01 \\$</td>\n",
    "    <td>4.6 M\\$</td>\n",
    "    <td>-</td>\n",
    "  </tr>\n",
    "</tbody>\n",
    "</table>"
   ]
  },
  {
   "cell_type": "markdown",
   "id": "6a1a8512",
   "metadata": {
    "slideshow": {
     "slide_type": "slide"
    }
   },
   "source": [
    "<img src=\"robot2.png\" style=\"margin:2%;width:35%;float:right;\"/>\n",
    "Le grandi dimensioni dei modelli GPT fanno emergere interessanti capacità di elaborazione dell'informazione.\n",
    "\n",
    "Questi modelli raggiungeranno intelligenza paragonabile a quella umana? Il dibattito è aperto...\n",
    "\n",
    "...nel frattempo, quando usiamo uno **strumento** di tipo GPT è sempre meglio **usare la nostra intelligenza e conoscenza** per verificare la validità delle risposte ottenute.\n",
    "\n",
    "<img src=\"qrcode.png\" style=\"width:20%;float:left;\"/>\n",
    "\n",
    "Codice open source: \n",
    "\n",
    "https://github.com/aesuli/brightwrite"
   ]
  }
 ],
 "metadata": {
  "celltoolbar": "Slideshow",
  "kernelspec": {
   "display_name": "Python 3 (ipykernel)",
   "language": "python",
   "name": "python3"
  },
  "language_info": {
   "codemirror_mode": {
    "name": "ipython",
    "version": 3
   },
   "file_extension": ".py",
   "mimetype": "text/x-python",
   "name": "python",
   "nbconvert_exporter": "python",
   "pygments_lexer": "ipython3",
   "version": "3.11.4"
  }
 },
 "nbformat": 4,
 "nbformat_minor": 5
}
