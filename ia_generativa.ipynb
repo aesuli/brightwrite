{
 "cells": [
  {
   "cell_type": "markdown",
   "id": "b61de559",
   "metadata": {
    "slideshow": {
     "slide_type": "slide"
    },
    "tags": []
   },
   "source": [
    "<center>\n",
    "<img src=\"images/cover.svg\" style=\"width: 100%;\" />\n",
    "</center>"
   ]
  },
  {
   "cell_type": "markdown",
   "id": "52252799",
   "metadata": {
    "slideshow": {
     "slide_type": "slide"
    },
    "tags": []
   },
   "source": [
    "<center>\n",
    "<img src=\"images/how.svg\" style=\"width: 100%;\" />\n",
    "</center>"
   ]
  },
  {
   "cell_type": "markdown",
   "id": "5d022d7a",
   "metadata": {
    "slideshow": {
     "slide_type": "slide"
    },
    "tags": []
   },
   "source": [
    "<center>\n",
    "<img src=\"images/pillars.svg\" style=\"width: 100%;\" />\n",
    "</center>"
   ]
  },
  {
   "cell_type": "markdown",
   "id": "625a3e8b",
   "metadata": {
    "slideshow": {
     "slide_type": "slide"
    },
    "tags": []
   },
   "source": [
    " Costruiamo una IA generativa a partire da 20'000 frasi prese a caso dal Web sul tema cucina."
   ]
  },
  {
   "cell_type": "code",
   "execution_count": 1,
   "id": "00f806fe",
   "metadata": {
    "slideshow": {
     "slide_type": "-"
    },
    "tags": []
   },
   "outputs": [
    {
     "data": {
      "application/vnd.jupyter.widget-view+json": {
       "model_id": "8cac790e245544fa866678d6736ce3f3",
       "version_major": 2,
       "version_minor": 0
      },
      "text/plain": [
       "  0%|          | 0/20000 [00:00<?, ?it/s]"
      ]
     },
     "metadata": {},
     "output_type": "display_data"
    },
    {
     "name": "stdout",
     "output_type": "stream",
     "text": [
      "1\tQuesta fase di riposo a freddo è fondamentale , perchè permette alle d...\n",
      "2\tPrima di tirare fuori la pallotta ho raccolto e lavato un rametto di r...\n",
      "3\tCiao Db sono reduce da una piacevole serata con amici e per l occasion...\n",
      "4\tPurtroppo anche qui trovo indicati mille modi per rovinare questa piet...\n",
      "5\tRiprendete il disco di brisé più grande e stendetelo con l uso di un m...\n",
      "6\tStiamo parlando di una pianta dalla quale si ricava una farina ad alto...\n",
      "7\tLasciate cuocere il sugo leggermente scoperto , così evaporerà parte d...\n",
      "8\tIn poche righe è praticamente impossibile condensare tutte le peculiar...\n",
      "9\tDi più posso solo dirvi che è un grano di una bontà incredibile , ho d...\n",
      "10\tNn vi aspettate un pane alveolato con occhiatura ecc . ecc . , nn cred...\n"
     ]
    }
   ],
   "source": [
    "import brightwrite\n",
    "\n",
    "esempi = brightwrite.carica_esempi(\"data/cucina.txt\")\n",
    "\n",
    "brightwrite.stampa_esempi(esempi, 10)"
   ]
  },
  {
   "cell_type": "markdown",
   "id": "8637beda",
   "metadata": {
    "slideshow": {
     "slide_type": "skip"
    }
   },
   "source": [
    "Costruiamo il **vocabolario** del nostro linguaggio:\n",
    "* l'elenco di tutte le parole, e simboli, che compaiono almeno una volta negli esempi"
   ]
  },
  {
   "cell_type": "code",
   "execution_count": null,
   "id": "d9fbf9ad",
   "metadata": {
    "slideshow": {
     "slide_type": "skip"
    }
   },
   "outputs": [],
   "source": [
    "vocabolario = brightwrite.costruisci_vocabolario(esempi)"
   ]
  },
  {
   "cell_type": "markdown",
   "id": "c2f83a58",
   "metadata": {
    "slideshow": {
     "slide_type": "slide"
    }
   },
   "source": [
    "Dai testi di esempio possiamo costruire un **modello del linguaggio**."
   ]
  },
  {
   "cell_type": "markdown",
   "id": "8c0141d5",
   "metadata": {
    "slideshow": {
     "slide_type": "fragment"
    }
   },
   "source": [
    "Cominciamo costruendo un **vocabolario** con le **frequenze** di uso delle parole."
   ]
  },
  {
   "cell_type": "code",
   "execution_count": 2,
   "id": "1a7eda7d",
   "metadata": {
    "slideshow": {
     "slide_type": "-"
    },
    "tags": []
   },
   "outputs": [
    {
     "name": "stdout",
     "output_type": "stream",
     "text": [
      "dimensione vocabolario: 39696\n",
      "\n",
      "50576 ,              \t35348 .              \t33190 di             \t29431 e              \t19196 NUM            \t18288 la             \t16766 il             \t14313 a              \t13549 farina         \t13012 per            \t12216 un             \t12134 con            \t11458 in             \t 9153 una            \t 8440 che            \t 7791 '              \t 6806 l              \t 6526 le             \t 6090 cuocere        \t 5502 è              \t 5263 i              \t 5077 non            \t 4292 da             \t 4231 :              \t 4229 si             \t 4102 minuti         \t 3666 acqua          \t 3478 al             \t 3461 del            \t 3388 della          \t 3214 o              \t 3110 sale           \t 3105 zucchero       \t 2945 lo             \t 2701 impasto        \t 2685 olio           \t 2525 lievito        \t 2471 circa          \t 2443 anche          \t 2407 più            \t"
     ]
    }
   ],
   "source": [
    "vocabolario, frequenze = brightwrite.conta_frequenze(esempi)\n",
    "print('dimensione vocabolario:',len(vocabolario))\n",
    "print()\n",
    "for idx in range(40):\n",
    "    print(f'{frequenze[idx]:5} {vocabolario[idx]:15}', end='\\t')\n"
   ]
  },
  {
   "cell_type": "markdown",
   "id": "eb39d366",
   "metadata": {
    "slideshow": {
     "slide_type": "slide"
    }
   },
   "source": [
    "<center><img src=\"images/dart.png\" style=\"display:inline-block; float:left;margin-top:10%; width:20%; visibility: hidden; \" /><img src=\"images/scelta_pesata.png\" style=\"margin-top:5%; width:45%\"/> </center>\n"
   ]
  },
  {
   "cell_type": "markdown",
   "id": "7e3f6775",
   "metadata": {
    "slideshow": {
     "slide_type": "slide"
    }
   },
   "source": [
    "<center><img src=\"images/dart.png\" style=\"display:inline-block; float:left;margin-top:10%; width:20%\" />\n",
    "    <img src=\"images/scelta_pesata.png\" style=\"margin-top:5%; width:45%\"/> </center>"
   ]
  },
  {
   "cell_type": "markdown",
   "id": "1913ba97",
   "metadata": {
    "slideshow": {
     "slide_type": "slide"
    }
   },
   "source": [
    "Scegliamo parole **a caso** con una **probabilità proporzionale alla frequenza d'uso negli esempi**"
   ]
  },
  {
   "cell_type": "code",
   "execution_count": 4,
   "id": "b65cf4f6",
   "metadata": {
    "slideshow": {
     "slide_type": "-"
    }
   },
   "outputs": [
    {
     "name": "stdout",
     "output_type": "stream",
     "text": [
      "di conosce ma la e addensato , il alta caldo e frigge che ' ,\n"
     ]
    }
   ],
   "source": [
    "import random\n",
    "print(' '.join(random.choices(vocabolario, k=15, weights=frequenze)))"
   ]
  },
  {
   "cell_type": "markdown",
   "id": "ba9adcf0",
   "metadata": {
    "slideshow": {
     "slide_type": "slide"
    },
    "tags": []
   },
   "source": [
    "<center>\n",
    "    <img src=\"images/context0.png\" />\n",
    "</center>"
   ]
  },
  {
   "cell_type": "markdown",
   "id": "1658ddf9",
   "metadata": {
    "slideshow": {
     "slide_type": "slide"
    },
    "tags": []
   },
   "source": [
    "<center>\n",
    "    <img src=\"images/context1.png\" />\n",
    "</center>"
   ]
  },
  {
   "cell_type": "markdown",
   "id": "829c93e4",
   "metadata": {
    "slideshow": {
     "slide_type": "slide"
    }
   },
   "source": [
    "Calcolo le frequenze per tutti i contesti osservati negli esempi:\n",
    "<center>\n",
    "    <img src=\"images/modello.svg\" style=\"width:80%;\">\n",
    "</center>"
   ]
  },
  {
   "cell_type": "markdown",
   "id": "66bc6617",
   "metadata": {
    "slideshow": {
     "slide_type": "slide"
    }
   },
   "source": [
    "Generiamo il testo usando frequenze e contesti:\n",
    "<center>\n",
    "    <img src=\"images/gen_chain.svg\" style=\"width:80%;\">\n",
    "</center>"
   ]
  },
  {
   "cell_type": "markdown",
   "id": "5c456f63",
   "metadata": {
    "slideshow": {
     "slide_type": "slide"
    }
   },
   "source": [
    "Calcolo le frequenze per tutti i contesti osservati negli esempi:"
   ]
  },
  {
   "cell_type": "code",
   "execution_count": 5,
   "id": "714afb1f",
   "metadata": {
    "slideshow": {
     "slide_type": "-"
    }
   },
   "outputs": [
    {
     "data": {
      "application/vnd.jupyter.widget-view+json": {
       "model_id": "d72ce202dec44c7499e35c02604e01b0",
       "version_major": 2,
       "version_minor": 0
      },
      "text/plain": [
       "  0%|          | 0/20000 [00:00<?, ?it/s]"
      ]
     },
     "metadata": {},
     "output_type": "display_data"
    },
    {
     "name": "stdout",
     "output_type": "stream",
     "text": [
      "Numero contesti: 85282\n",
      "Numero totale di parametri: 655441\n"
     ]
    }
   ],
   "source": [
    "modello = brightwrite.conta_frequenze_nei_contesti(esempi)"
   ]
  },
  {
   "cell_type": "code",
   "execution_count": 6,
   "id": "f566b957",
   "metadata": {
    "slideshow": {
     "slide_type": "-"
    }
   },
   "outputs": [
    {
     "name": "stdout",
     "output_type": "stream",
     "text": [
      "   12 tutto                              5 burro                              1 fior                               1 latte                              1 cocco                              1 caramello                          1 grano                              1 purè                               1 resto                              1 tuorlo                           ... (+5)\n"
     ]
    }
   ],
   "source": [
    "brightwrite.mostra_frequenze_per_contesto(modello, 'mescolare il')"
   ]
  },
  {
   "cell_type": "code",
   "execution_count": 7,
   "id": "d230f4b9",
   "metadata": {
    "slideshow": {
     "slide_type": "-"
    }
   },
   "outputs": [
    {
     "name": "stdout",
     "output_type": "stream",
     "text": [
      "   18 fuso                              13 fondente                          10 e                                  9 .                                  9 con                                8 a                                  8 sciolto                            7 ,                                  5 in                                 5 bianco                           ... (+26)\n"
     ]
    }
   ],
   "source": [
    "brightwrite.mostra_frequenze_per_contesto(modello, 'il cioccolato')"
   ]
  },
  {
   "cell_type": "code",
   "execution_count": 12,
   "id": "19eea181",
   "metadata": {
    "slideshow": {
     "slide_type": "slide"
    }
   },
   "outputs": [
    {
     "name": "stdout",
     "output_type": "stream",
     "text": [
      "impastare il nostro impasto e lievitazione e conferire forza è una cosa un composto omogeneo .\n"
     ]
    }
   ],
   "source": [
    "print(brightwrite.genera_testo(modello, contesto='impastare il'))"
   ]
  },
  {
   "cell_type": "code",
   "execution_count": 13,
   "id": "564d0580",
   "metadata": {
    "slideshow": {
     "slide_type": "fragment"
    }
   },
   "outputs": [
    {
     "name": "stdout",
     "output_type": "stream",
     "text": [
      "Contesto: \"mescolare il\"\t30 opzioni\t-> \"burro\"\n",
      "Contesto: \"mescolare il burro\"\t5 opzioni\t-> \"freddo\"\n",
      "Contesto: \"il burro freddo\"\t61 opzioni\t-> \"di\"\n",
      "Contesto: \"burro freddo di\"\t8 opzioni\t-> \"frigorifero\"\n",
      "Contesto: \"freddo di frigorifero\"\t5 opzioni\t-> \"e\"\n",
      "Contesto: \"di frigorifero e\"\t16 opzioni\t-> \"non\"\n",
      "Contesto: \"frigorifero e non\"\t307 opzioni\t-> \"risulti\"\n",
      "Contesto: \"e non risulti\"\t20 opzioni\t-> \"omogenea\"\n",
      "Contesto: \"non risulti omogenea\"\t99 opzioni\t-> \".\"\n",
      "\n",
      "mescolare il burro freddo di frigorifero e non risulti omogenea .\n"
     ]
    }
   ],
   "source": [
    "print(brightwrite.genera_testo(modello, contesto='mescolare il', dettagli=True))"
   ]
  },
  {
   "cell_type": "markdown",
   "id": "d1f9c0a6",
   "metadata": {
    "slideshow": {
     "slide_type": "slide"
    },
    "tags": []
   },
   "source": [
    "<center>\n",
    "    <img src=\"images/wizard1.svg\" style=\"width:80%;\">\n",
    "</center>"
   ]
  },
  {
   "cell_type": "markdown",
   "id": "6f9a920c",
   "metadata": {
    "slideshow": {
     "slide_type": "slide"
    },
    "tags": []
   },
   "source": [
    "<center>\n",
    "    <img src=\"images/wizard2.svg\" style=\"width:80%;\">\n",
    "</center>"
   ]
  },
  {
   "cell_type": "markdown",
   "id": "d022e258",
   "metadata": {
    "slideshow": {
     "slide_type": "slide"
    },
    "tags": []
   },
   "source": [
    "<table>\n",
    "<thead>\n",
    "  <tr>\n",
    "    <th></th>\n",
    "    <th>BrightWrite</th>\n",
    "    <th>GPT-3</th>\n",
    "    <th>GPT-4</th>\n",
    "  </tr>\n",
    "</thead>\n",
    "<tbody>\n",
    "  <tr>\n",
    "    <td>Dimensione esempi</td>\n",
    "    <td>800 mila parole</td>\n",
    "    <td>300 miliardi</td>\n",
    "    <td>13000 miliardi</td>\n",
    "  </tr>\n",
    "  <tr>\n",
    "    <td>Dimensione contesto</td>\n",
    "    <td>3 parole</td>\n",
    "    <td>2048</td>\n",
    "    <td>128000</td>\n",
    "  </tr>\n",
    "  <tr>\n",
    "    <td>Numero parametri<br>nel modello</td>\n",
    "    <td>655441</td>\n",
    "    <td>175 miliardi</td>\n",
    "    <td>1800 miliardi</td>\n",
    "  </tr>\n",
    "  <tr>\n",
    "    <td>Costo di produzione</td>\n",
    "    <td><0.01 \\$</td>\n",
    "    <td>4.6 M\\$</td>\n",
    "    <td>100 M\\$</td>\n",
    "  </tr>\n",
    "</tbody>\n",
    "</table>"
   ]
  },
  {
   "cell_type": "markdown",
   "id": "45b2a2bd",
   "metadata": {
    "slideshow": {
     "slide_type": "slide"
    },
    "tags": []
   },
   "source": [
    "<center>\n",
    "    <img src=\"images/chat1.png\" style=\"width:80%;\">\n",
    "</center>"
   ]
  },
  {
   "cell_type": "markdown",
   "id": "cae0f18e",
   "metadata": {
    "slideshow": {
     "slide_type": "slide"
    },
    "tags": []
   },
   "source": [
    "<center>\n",
    "    <img src=\"images/chat2.png\" style=\"width:80%;\">\n",
    "</center>"
   ]
  },
  {
   "cell_type": "markdown",
   "id": "aeaec3f7",
   "metadata": {
    "slideshow": {
     "slide_type": "slide"
    },
    "tags": []
   },
   "source": [
    "<center>\n",
    "    <img src=\"images/chat3.png\" style=\"width:80%;\">\n",
    "</center>"
   ]
  },
  {
   "cell_type": "markdown",
   "id": "9d273e0f",
   "metadata": {
    "slideshow": {
     "slide_type": "slide"
    }
   },
   "source": [
    "<center>\n",
    "    <img src=\"images/image_gen_0.svg\" width=\"80%\"/>\n",
    "</center>"
   ]
  },
  {
   "cell_type": "markdown",
   "id": "d4895a41",
   "metadata": {
    "slideshow": {
     "slide_type": "slide"
    }
   },
   "source": [
    "<center>\n",
    "    <img src=\"images/image_gen_1.svg\" width=\"80%\"/>\n",
    "</center>"
   ]
  },
  {
   "cell_type": "markdown",
   "id": "9490d8aa",
   "metadata": {
    "slideshow": {
     "slide_type": "slide"
    }
   },
   "source": [
    "<center>\n",
    "    <img src=\"images/image_gen_2.svg\" width=\"80%\"/>\n",
    "</center>"
   ]
  },
  {
   "cell_type": "markdown",
   "id": "87ea31e6",
   "metadata": {
    "slideshow": {
     "slide_type": "slide"
    }
   },
   "source": [
    "<center>\n",
    "    <img src=\"images/image_gen_3.svg\" width=\"80%\"/>\n",
    "</center>"
   ]
  },
  {
   "cell_type": "markdown",
   "id": "b11aeebf",
   "metadata": {
    "slideshow": {
     "slide_type": "slide"
    }
   },
   "source": [
    "<center>\n",
    "    <img src=\"images/image_gen_5.svg\" width=\"80%\"/>\n",
    "</center>"
   ]
  },
  {
   "cell_type": "markdown",
   "id": "6a1a8512",
   "metadata": {
    "slideshow": {
     "slide_type": "slide"
    },
    "tags": []
   },
   "source": [
    "<img src=\"images/qrcode.png\" style=\"width:20%;float:left;\"/>\n",
    "\n",
    "Codice open source: \n",
    "\n",
    "https://github.com/aesuli/brightwrite\n",
    "\n",
    "Immagini create con DALL-E 3.\n",
    "\n",
    "Esempi ChatGPT creati con la versione 3.5."
   ]
  }
 ],
 "metadata": {
  "celltoolbar": "Slideshow",
  "kernelspec": {
   "display_name": "Python 3 (ipykernel)",
   "language": "python",
   "name": "python3"
  },
  "language_info": {
   "codemirror_mode": {
    "name": "ipython",
    "version": 3
   },
   "file_extension": ".py",
   "mimetype": "text/x-python",
   "name": "python",
   "nbconvert_exporter": "python",
   "pygments_lexer": "ipython3",
   "version": "3.11.4"
  },
  "rise": {
   "transition": "fade"
  }
 },
 "nbformat": 4,
 "nbformat_minor": 5
}
