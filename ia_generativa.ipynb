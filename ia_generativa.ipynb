{
 "cells": [
  {
   "cell_type": "markdown",
   "id": "b61de559",
   "metadata": {
    "slideshow": {
     "slide_type": "slide"
    },
    "tags": []
   },
   "source": [
    "<center>\n",
    "<img src=\"images/cover.svg\" style=\"width: 100%;\" />\n",
    "</center>"
   ]
  },
  {
   "cell_type": "markdown",
   "id": "52252799",
   "metadata": {
    "slideshow": {
     "slide_type": "slide"
    },
    "tags": []
   },
   "source": [
    "<center>\n",
    "<img src=\"images/how.svg\" style=\"width: 100%;\" />\n",
    "</center>"
   ]
  },
  {
   "cell_type": "markdown",
   "id": "5d022d7a",
   "metadata": {
    "slideshow": {
     "slide_type": "slide"
    },
    "tags": []
   },
   "source": [
    "<center>\n",
    "<img src=\"images/pillars.svg\" style=\"width: 100%;\" />\n",
    "</center>"
   ]
  },
  {
   "cell_type": "markdown",
   "id": "625a3e8b",
   "metadata": {
    "slideshow": {
     "slide_type": "slide"
    },
    "tags": []
   },
   "source": [
    " Costruiamo una IA generativa a partire da 20'000 frasi prese a caso dal Web sul tema cucina."
   ]
  },
  {
   "cell_type": "code",
   "execution_count": null,
   "id": "00f806fe",
   "metadata": {
    "slideshow": {
     "slide_type": "-"
    },
    "tags": []
   },
   "outputs": [],
   "source": [
    "import brightwrite\n",
    "\n",
    "esempi = brightwrite.carica_esempi(\"data/cucina.txt\")\n",
    "\n",
    "brightwrite.stampa_esempi(esempi, 10)"
   ]
  },
  {
   "cell_type": "markdown",
   "id": "8637beda",
   "metadata": {
    "slideshow": {
     "slide_type": "skip"
    }
   },
   "source": [
    "Costruiamo il **vocabolario** del nostro linguaggio:\n",
    "* l'elenco di tutte le parole, e simboli, che compaiono almeno una volta negli esempi"
   ]
  },
  {
   "cell_type": "code",
   "execution_count": null,
   "id": "d9fbf9ad",
   "metadata": {
    "slideshow": {
     "slide_type": "skip"
    }
   },
   "outputs": [],
   "source": [
    "vocabolario = brightwrite.costruisci_vocabolario(esempi)"
   ]
  },
  {
   "cell_type": "markdown",
   "id": "c2f83a58",
   "metadata": {
    "slideshow": {
     "slide_type": "slide"
    }
   },
   "source": [
    "Dai testi di esempio possiamo costruire un **modello del linguaggio**."
   ]
  },
  {
   "cell_type": "markdown",
   "id": "8c0141d5",
   "metadata": {
    "slideshow": {
     "slide_type": "fragment"
    }
   },
   "source": [
    "Cominciamo costruendo un **vocabolario** con le **frequenze** di uso delle parole."
   ]
  },
  {
   "cell_type": "code",
   "execution_count": null,
   "id": "1a7eda7d",
   "metadata": {
    "slideshow": {
     "slide_type": "-"
    },
    "tags": []
   },
   "outputs": [],
   "source": [
    "vocabolario, frequenze = brightwrite.conta_frequenze(esempi)\n",
    "print('dimensione vocabolario:',len(vocabolario))\n",
    "print()\n",
    "for idx in range(40):\n",
    "    print(f'{frequenze[idx]:5} {vocabolario[idx]:15}', end='\\t')\n"
   ]
  },
  {
   "cell_type": "markdown",
   "id": "eb39d366",
   "metadata": {
    "slideshow": {
     "slide_type": "slide"
    }
   },
   "source": [
    "<center><img src=\"images/dart.png\" style=\"display:inline-block; float:left;margin-top:10%; width:20%; visibility: hidden; \" /><img src=\"images/scelta_pesata.png\" style=\"margin-top:5%; width:45%\"/> </center>\n"
   ]
  },
  {
   "cell_type": "markdown",
   "id": "7e3f6775",
   "metadata": {
    "slideshow": {
     "slide_type": "slide"
    }
   },
   "source": [
    "<center><img src=\"images/dart.png\" style=\"display:inline-block; float:left;margin-top:10%; width:20%\" />\n",
    "    <img src=\"images/scelta_pesata.png\" style=\"margin-top:5%; width:45%\"/> </center>"
   ]
  },
  {
   "cell_type": "markdown",
   "id": "1913ba97",
   "metadata": {
    "slideshow": {
     "slide_type": "slide"
    }
   },
   "source": [
    "Scegliamo parole **a caso** con una **probabilità proporzionale alla frequenza d'uso negli esempi**"
   ]
  },
  {
   "cell_type": "code",
   "execution_count": null,
   "id": "b65cf4f6",
   "metadata": {
    "slideshow": {
     "slide_type": "-"
    }
   },
   "outputs": [],
   "source": [
    "import random\n",
    "print(' '.join(random.choices(vocabolario, k=15, weights=frequenze)))"
   ]
  },
  {
   "cell_type": "markdown",
   "id": "ba9adcf0",
   "metadata": {
    "slideshow": {
     "slide_type": "slide"
    },
    "tags": []
   },
   "source": [
    "<center>\n",
    "    <img src=\"images/context0.png\" />\n",
    "</center>"
   ]
  },
  {
   "cell_type": "markdown",
   "id": "1658ddf9",
   "metadata": {
    "slideshow": {
     "slide_type": "slide"
    },
    "tags": []
   },
   "source": [
    "<center>\n",
    "    <img src=\"images/context1.png\" />\n",
    "</center>"
   ]
  },
  {
   "cell_type": "markdown",
   "id": "829c93e4",
   "metadata": {
    "slideshow": {
     "slide_type": "slide"
    }
   },
   "source": [
    "Calcolo le frequenze per tutti i contesti osservati negli esempi:\n",
    "<center>\n",
    "    <img src=\"images/modello.svg\" style=\"width:80%;\">\n",
    "</center>"
   ]
  },
  {
   "cell_type": "markdown",
   "id": "66bc6617",
   "metadata": {
    "slideshow": {
     "slide_type": "slide"
    }
   },
   "source": [
    "Generiamo il testo usando frequenze e contesti:\n",
    "<center>\n",
    "    <img src=\"images/gen_chain.svg\" style=\"width:80%;\">\n",
    "</center>"
   ]
  },
  {
   "cell_type": "markdown",
   "id": "5c456f63",
   "metadata": {
    "slideshow": {
     "slide_type": "slide"
    }
   },
   "source": [
    "Calcolo le frequenze per tutti i contesti osservati negli esempi:"
   ]
  },
  {
   "cell_type": "code",
   "execution_count": null,
   "id": "714afb1f",
   "metadata": {
    "slideshow": {
     "slide_type": "-"
    }
   },
   "outputs": [],
   "source": [
    "modello = brightwrite.conta_frequenze_nei_contesti(esempi)"
   ]
  },
  {
   "cell_type": "code",
   "execution_count": null,
   "id": "f566b957",
   "metadata": {
    "slideshow": {
     "slide_type": "-"
    }
   },
   "outputs": [],
   "source": [
    "brightwrite.mostra_frequenze_per_contesto(modello, 'mescolare il')"
   ]
  },
  {
   "cell_type": "code",
   "execution_count": null,
   "id": "d230f4b9",
   "metadata": {
    "slideshow": {
     "slide_type": "-"
    }
   },
   "outputs": [],
   "source": [
    "brightwrite.mostra_frequenze_per_contesto(modello, 'il cioccolato')"
   ]
  },
  {
   "cell_type": "code",
   "execution_count": null,
   "id": "19eea181",
   "metadata": {
    "slideshow": {
     "slide_type": "slide"
    }
   },
   "outputs": [],
   "source": [
    "print(brightwrite.genera_testo(modello, contesto='impastare il'))"
   ]
  },
  {
   "cell_type": "code",
   "execution_count": null,
   "id": "564d0580",
   "metadata": {
    "slideshow": {
     "slide_type": "fragment"
    }
   },
   "outputs": [],
   "source": [
    "print(brightwrite.genera_testo(modello, contesto='mescolare il', dettagli=True))"
   ]
  },
  {
   "cell_type": "markdown",
   "id": "d1f9c0a6",
   "metadata": {
    "slideshow": {
     "slide_type": "slide"
    },
    "tags": []
   },
   "source": [
    "<center>\n",
    "    <img src=\"images/wizard1.svg\" style=\"width:80%;\">\n",
    "</center>"
   ]
  },
  {
   "cell_type": "markdown",
   "id": "6f9a920c",
   "metadata": {
    "slideshow": {
     "slide_type": "slide"
    },
    "tags": []
   },
   "source": [
    "<center>\n",
    "    <img src=\"images/wizard2.svg\" style=\"width:80%;\">\n",
    "</center>"
   ]
  },
  {
   "cell_type": "markdown",
   "id": "d022e258",
   "metadata": {
    "slideshow": {
     "slide_type": "slide"
    },
    "tags": []
   },
   "source": [
    "<table>\n",
    "<thead>\n",
    "  <tr>\n",
    "    <th></th>\n",
    "    <th>BrightWrite</th>\n",
    "    <th>GPT-3</th>\n",
    "    <th>GPT-4</th>\n",
    "  </tr>\n",
    "</thead>\n",
    "<tbody>\n",
    "  <tr>\n",
    "    <td>Dimensione esempi</td>\n",
    "    <td>800 mila parole</td>\n",
    "    <td>300 miliardi</td>\n",
    "    <td>13000 miliardi</td>\n",
    "  </tr>\n",
    "  <tr>\n",
    "    <td>Dimensione contesto</td>\n",
    "    <td>3 parole</td>\n",
    "    <td>2048</td>\n",
    "    <td>128000</td>\n",
    "  </tr>\n",
    "  <tr>\n",
    "    <td>Numero parametri<br>nel modello</td>\n",
    "    <td>655441</td>\n",
    "    <td>175 miliardi</td>\n",
    "    <td>1800 miliardi</td>\n",
    "  </tr>\n",
    "  <tr>\n",
    "    <td>Costo di produzione</td>\n",
    "    <td><0.01 \\$</td>\n",
    "    <td>4.6 M\\$</td>\n",
    "    <td>100 M\\$</td>\n",
    "  </tr>\n",
    "</tbody>\n",
    "</table>"
   ]
  },
  {
   "cell_type": "markdown",
   "id": "45b2a2bd",
   "metadata": {
    "slideshow": {
     "slide_type": "slide"
    },
    "tags": []
   },
   "source": [
    "<center>\n",
    "    <img src=\"images/chat1.png\" style=\"width:80%;\">\n",
    "</center>"
   ]
  },
  {
   "cell_type": "markdown",
   "id": "cae0f18e",
   "metadata": {
    "slideshow": {
     "slide_type": "slide"
    },
    "tags": []
   },
   "source": [
    "<center>\n",
    "    <img src=\"images/chat2.png\" style=\"width:80%;\">\n",
    "</center>"
   ]
  },
  {
   "cell_type": "markdown",
   "id": "aeaec3f7",
   "metadata": {
    "slideshow": {
     "slide_type": "slide"
    },
    "tags": []
   },
   "source": [
    "<center>\n",
    "    <img src=\"images/chat3.png\" style=\"width:80%;\">\n",
    "</center>"
   ]
  },
  {
   "cell_type": "markdown",
   "id": "9d273e0f",
   "metadata": {
    "slideshow": {
     "slide_type": "slide"
    }
   },
   "source": [
    "<center>\n",
    "    <img src=\"images/image_gen_0.svg\" width=\"80%\"/>\n",
    "</center>"
   ]
  },
  {
   "cell_type": "markdown",
   "id": "d4895a41",
   "metadata": {
    "slideshow": {
     "slide_type": "slide"
    }
   },
   "source": [
    "<center>\n",
    "    <img src=\"images/image_gen_1.svg\" width=\"80%\"/>\n",
    "</center>"
   ]
  },
  {
   "cell_type": "markdown",
   "id": "9490d8aa",
   "metadata": {
    "slideshow": {
     "slide_type": "slide"
    }
   },
   "source": [
    "<center>\n",
    "    <img src=\"images/image_gen_2.svg\" width=\"80%\"/>\n",
    "</center>"
   ]
  },
  {
   "cell_type": "markdown",
   "id": "87ea31e6",
   "metadata": {
    "slideshow": {
     "slide_type": "slide"
    }
   },
   "source": [
    "<center>\n",
    "    <img src=\"images/image_gen_3.svg\" width=\"80%\"/>\n",
    "</center>"
   ]
  },
  {
   "cell_type": "markdown",
   "id": "b11aeebf",
   "metadata": {
    "slideshow": {
     "slide_type": "slide"
    }
   },
   "source": [
    "<center>\n",
    "    <img src=\"images/image_gen_5.svg\" width=\"80%\"/>\n",
    "</center>"
   ]
  },
  {
   "cell_type": "markdown",
   "id": "6a1a8512",
   "metadata": {
    "slideshow": {
     "slide_type": "slide"
    },
    "tags": []
   },
   "source": [
    "<img src=\"images/qrcode.png\" style=\"width:20%;float:left;\"/>\n",
    "\n",
    "Codice open source: \n",
    "\n",
    "https://github.com/aesuli/brightwrite\n",
    "\n",
    "Immagini create con DALL-E 3.\n",
    "\n",
    "Esempi ChatGPT creati con la versione 3.5."
   ]
  }
 ],
 "metadata": {
  "celltoolbar": "Slideshow",
  "kernelspec": {
   "display_name": "Python 3 (ipykernel)",
   "language": "python",
   "name": "python3"
  },
  "language_info": {
   "codemirror_mode": {
    "name": "ipython",
    "version": 3
   },
   "file_extension": ".py",
   "mimetype": "text/x-python",
   "name": "python",
   "nbconvert_exporter": "python",
   "pygments_lexer": "ipython3",
   "version": "3.11.4"
  },
  "rise": {
   "transition": "fade"
  }
 },
 "nbformat": 4,
 "nbformat_minor": 5
}
